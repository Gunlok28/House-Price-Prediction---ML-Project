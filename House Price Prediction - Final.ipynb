{
 "cells": [
  {
   "cell_type": "code",
   "execution_count": 1,
   "id": "b4ef4e45",
   "metadata": {},
   "outputs": [],
   "source": [
    "import pandas as pd\n",
    "import numpy as np\n",
    "\n",
    "\n",
    "import matplotlib.pyplot as plt\n",
    "import seaborn as sns\n",
    "\n",
    "from sklearn.preprocessing import MinMaxScaler\n",
    "from sklearn.feature_selection import SelectFromModel\n",
    "\n",
    "from sklearn.linear_model import Lasso\n",
    "from sklearn.linear_model import Ridge\n",
    "\n",
    "from sklearn.metrics import r2_score, mean_squared_error, mean_absolute_error\n",
    "from sklearn.model_selection import GridSearchCV"
   ]
  },
  {
   "cell_type": "code",
   "execution_count": 2,
   "id": "bbe15412",
   "metadata": {},
   "outputs": [],
   "source": [
    "pd.set_option('display.max_columns', 100)\n",
    "import warnings\n",
    "warnings.filterwarnings('ignore')"
   ]
  },
  {
   "cell_type": "markdown",
   "id": "ffd9d8c5",
   "metadata": {},
   "source": [
    "----"
   ]
  },
  {
   "cell_type": "code",
   "execution_count": 3,
   "id": "a9853615",
   "metadata": {},
   "outputs": [
    {
     "ename": "FileNotFoundError",
     "evalue": "[Errno 2] No such file or directory: 'training_set.csv'",
     "output_type": "error",
     "traceback": [
      "\u001b[1;31m---------------------------------------------------------------------------\u001b[0m",
      "\u001b[1;31mFileNotFoundError\u001b[0m                         Traceback (most recent call last)",
      "Cell \u001b[1;32mIn[3], line 1\u001b[0m\n\u001b[1;32m----> 1\u001b[0m train_data \u001b[38;5;241m=\u001b[39m pd\u001b[38;5;241m.\u001b[39mread_csv(\u001b[38;5;124m'\u001b[39m\u001b[38;5;124mtraining_set.csv\u001b[39m\u001b[38;5;124m'\u001b[39m)\n\u001b[0;32m      2\u001b[0m test_data \u001b[38;5;241m=\u001b[39m pd\u001b[38;5;241m.\u001b[39mread_csv(\u001b[38;5;124m'\u001b[39m\u001b[38;5;124mtesting_set.csv\u001b[39m\u001b[38;5;124m'\u001b[39m)\n",
      "File \u001b[1;32mE:\\Data Analyst\\Jupyter-2\\Lib\\site-packages\\pandas\\io\\parsers\\readers.py:912\u001b[0m, in \u001b[0;36mread_csv\u001b[1;34m(filepath_or_buffer, sep, delimiter, header, names, index_col, usecols, dtype, engine, converters, true_values, false_values, skipinitialspace, skiprows, skipfooter, nrows, na_values, keep_default_na, na_filter, verbose, skip_blank_lines, parse_dates, infer_datetime_format, keep_date_col, date_parser, date_format, dayfirst, cache_dates, iterator, chunksize, compression, thousands, decimal, lineterminator, quotechar, quoting, doublequote, escapechar, comment, encoding, encoding_errors, dialect, on_bad_lines, delim_whitespace, low_memory, memory_map, float_precision, storage_options, dtype_backend)\u001b[0m\n\u001b[0;32m    899\u001b[0m kwds_defaults \u001b[38;5;241m=\u001b[39m _refine_defaults_read(\n\u001b[0;32m    900\u001b[0m     dialect,\n\u001b[0;32m    901\u001b[0m     delimiter,\n\u001b[1;32m   (...)\u001b[0m\n\u001b[0;32m    908\u001b[0m     dtype_backend\u001b[38;5;241m=\u001b[39mdtype_backend,\n\u001b[0;32m    909\u001b[0m )\n\u001b[0;32m    910\u001b[0m kwds\u001b[38;5;241m.\u001b[39mupdate(kwds_defaults)\n\u001b[1;32m--> 912\u001b[0m \u001b[38;5;28;01mreturn\u001b[39;00m _read(filepath_or_buffer, kwds)\n",
      "File \u001b[1;32mE:\\Data Analyst\\Jupyter-2\\Lib\\site-packages\\pandas\\io\\parsers\\readers.py:577\u001b[0m, in \u001b[0;36m_read\u001b[1;34m(filepath_or_buffer, kwds)\u001b[0m\n\u001b[0;32m    574\u001b[0m _validate_names(kwds\u001b[38;5;241m.\u001b[39mget(\u001b[38;5;124m\"\u001b[39m\u001b[38;5;124mnames\u001b[39m\u001b[38;5;124m\"\u001b[39m, \u001b[38;5;28;01mNone\u001b[39;00m))\n\u001b[0;32m    576\u001b[0m \u001b[38;5;66;03m# Create the parser.\u001b[39;00m\n\u001b[1;32m--> 577\u001b[0m parser \u001b[38;5;241m=\u001b[39m TextFileReader(filepath_or_buffer, \u001b[38;5;241m*\u001b[39m\u001b[38;5;241m*\u001b[39mkwds)\n\u001b[0;32m    579\u001b[0m \u001b[38;5;28;01mif\u001b[39;00m chunksize \u001b[38;5;129;01mor\u001b[39;00m iterator:\n\u001b[0;32m    580\u001b[0m     \u001b[38;5;28;01mreturn\u001b[39;00m parser\n",
      "File \u001b[1;32mE:\\Data Analyst\\Jupyter-2\\Lib\\site-packages\\pandas\\io\\parsers\\readers.py:1407\u001b[0m, in \u001b[0;36mTextFileReader.__init__\u001b[1;34m(self, f, engine, **kwds)\u001b[0m\n\u001b[0;32m   1404\u001b[0m     \u001b[38;5;28mself\u001b[39m\u001b[38;5;241m.\u001b[39moptions[\u001b[38;5;124m\"\u001b[39m\u001b[38;5;124mhas_index_names\u001b[39m\u001b[38;5;124m\"\u001b[39m] \u001b[38;5;241m=\u001b[39m kwds[\u001b[38;5;124m\"\u001b[39m\u001b[38;5;124mhas_index_names\u001b[39m\u001b[38;5;124m\"\u001b[39m]\n\u001b[0;32m   1406\u001b[0m \u001b[38;5;28mself\u001b[39m\u001b[38;5;241m.\u001b[39mhandles: IOHandles \u001b[38;5;241m|\u001b[39m \u001b[38;5;28;01mNone\u001b[39;00m \u001b[38;5;241m=\u001b[39m \u001b[38;5;28;01mNone\u001b[39;00m\n\u001b[1;32m-> 1407\u001b[0m \u001b[38;5;28mself\u001b[39m\u001b[38;5;241m.\u001b[39m_engine \u001b[38;5;241m=\u001b[39m \u001b[38;5;28mself\u001b[39m\u001b[38;5;241m.\u001b[39m_make_engine(f, \u001b[38;5;28mself\u001b[39m\u001b[38;5;241m.\u001b[39mengine)\n",
      "File \u001b[1;32mE:\\Data Analyst\\Jupyter-2\\Lib\\site-packages\\pandas\\io\\parsers\\readers.py:1661\u001b[0m, in \u001b[0;36mTextFileReader._make_engine\u001b[1;34m(self, f, engine)\u001b[0m\n\u001b[0;32m   1659\u001b[0m     \u001b[38;5;28;01mif\u001b[39;00m \u001b[38;5;124m\"\u001b[39m\u001b[38;5;124mb\u001b[39m\u001b[38;5;124m\"\u001b[39m \u001b[38;5;129;01mnot\u001b[39;00m \u001b[38;5;129;01min\u001b[39;00m mode:\n\u001b[0;32m   1660\u001b[0m         mode \u001b[38;5;241m+\u001b[39m\u001b[38;5;241m=\u001b[39m \u001b[38;5;124m\"\u001b[39m\u001b[38;5;124mb\u001b[39m\u001b[38;5;124m\"\u001b[39m\n\u001b[1;32m-> 1661\u001b[0m \u001b[38;5;28mself\u001b[39m\u001b[38;5;241m.\u001b[39mhandles \u001b[38;5;241m=\u001b[39m get_handle(\n\u001b[0;32m   1662\u001b[0m     f,\n\u001b[0;32m   1663\u001b[0m     mode,\n\u001b[0;32m   1664\u001b[0m     encoding\u001b[38;5;241m=\u001b[39m\u001b[38;5;28mself\u001b[39m\u001b[38;5;241m.\u001b[39moptions\u001b[38;5;241m.\u001b[39mget(\u001b[38;5;124m\"\u001b[39m\u001b[38;5;124mencoding\u001b[39m\u001b[38;5;124m\"\u001b[39m, \u001b[38;5;28;01mNone\u001b[39;00m),\n\u001b[0;32m   1665\u001b[0m     compression\u001b[38;5;241m=\u001b[39m\u001b[38;5;28mself\u001b[39m\u001b[38;5;241m.\u001b[39moptions\u001b[38;5;241m.\u001b[39mget(\u001b[38;5;124m\"\u001b[39m\u001b[38;5;124mcompression\u001b[39m\u001b[38;5;124m\"\u001b[39m, \u001b[38;5;28;01mNone\u001b[39;00m),\n\u001b[0;32m   1666\u001b[0m     memory_map\u001b[38;5;241m=\u001b[39m\u001b[38;5;28mself\u001b[39m\u001b[38;5;241m.\u001b[39moptions\u001b[38;5;241m.\u001b[39mget(\u001b[38;5;124m\"\u001b[39m\u001b[38;5;124mmemory_map\u001b[39m\u001b[38;5;124m\"\u001b[39m, \u001b[38;5;28;01mFalse\u001b[39;00m),\n\u001b[0;32m   1667\u001b[0m     is_text\u001b[38;5;241m=\u001b[39mis_text,\n\u001b[0;32m   1668\u001b[0m     errors\u001b[38;5;241m=\u001b[39m\u001b[38;5;28mself\u001b[39m\u001b[38;5;241m.\u001b[39moptions\u001b[38;5;241m.\u001b[39mget(\u001b[38;5;124m\"\u001b[39m\u001b[38;5;124mencoding_errors\u001b[39m\u001b[38;5;124m\"\u001b[39m, \u001b[38;5;124m\"\u001b[39m\u001b[38;5;124mstrict\u001b[39m\u001b[38;5;124m\"\u001b[39m),\n\u001b[0;32m   1669\u001b[0m     storage_options\u001b[38;5;241m=\u001b[39m\u001b[38;5;28mself\u001b[39m\u001b[38;5;241m.\u001b[39moptions\u001b[38;5;241m.\u001b[39mget(\u001b[38;5;124m\"\u001b[39m\u001b[38;5;124mstorage_options\u001b[39m\u001b[38;5;124m\"\u001b[39m, \u001b[38;5;28;01mNone\u001b[39;00m),\n\u001b[0;32m   1670\u001b[0m )\n\u001b[0;32m   1671\u001b[0m \u001b[38;5;28;01massert\u001b[39;00m \u001b[38;5;28mself\u001b[39m\u001b[38;5;241m.\u001b[39mhandles \u001b[38;5;129;01mis\u001b[39;00m \u001b[38;5;129;01mnot\u001b[39;00m \u001b[38;5;28;01mNone\u001b[39;00m\n\u001b[0;32m   1672\u001b[0m f \u001b[38;5;241m=\u001b[39m \u001b[38;5;28mself\u001b[39m\u001b[38;5;241m.\u001b[39mhandles\u001b[38;5;241m.\u001b[39mhandle\n",
      "File \u001b[1;32mE:\\Data Analyst\\Jupyter-2\\Lib\\site-packages\\pandas\\io\\common.py:859\u001b[0m, in \u001b[0;36mget_handle\u001b[1;34m(path_or_buf, mode, encoding, compression, memory_map, is_text, errors, storage_options)\u001b[0m\n\u001b[0;32m    854\u001b[0m \u001b[38;5;28;01melif\u001b[39;00m \u001b[38;5;28misinstance\u001b[39m(handle, \u001b[38;5;28mstr\u001b[39m):\n\u001b[0;32m    855\u001b[0m     \u001b[38;5;66;03m# Check whether the filename is to be opened in binary mode.\u001b[39;00m\n\u001b[0;32m    856\u001b[0m     \u001b[38;5;66;03m# Binary mode does not support 'encoding' and 'newline'.\u001b[39;00m\n\u001b[0;32m    857\u001b[0m     \u001b[38;5;28;01mif\u001b[39;00m ioargs\u001b[38;5;241m.\u001b[39mencoding \u001b[38;5;129;01mand\u001b[39;00m \u001b[38;5;124m\"\u001b[39m\u001b[38;5;124mb\u001b[39m\u001b[38;5;124m\"\u001b[39m \u001b[38;5;129;01mnot\u001b[39;00m \u001b[38;5;129;01min\u001b[39;00m ioargs\u001b[38;5;241m.\u001b[39mmode:\n\u001b[0;32m    858\u001b[0m         \u001b[38;5;66;03m# Encoding\u001b[39;00m\n\u001b[1;32m--> 859\u001b[0m         handle \u001b[38;5;241m=\u001b[39m \u001b[38;5;28mopen\u001b[39m(\n\u001b[0;32m    860\u001b[0m             handle,\n\u001b[0;32m    861\u001b[0m             ioargs\u001b[38;5;241m.\u001b[39mmode,\n\u001b[0;32m    862\u001b[0m             encoding\u001b[38;5;241m=\u001b[39mioargs\u001b[38;5;241m.\u001b[39mencoding,\n\u001b[0;32m    863\u001b[0m             errors\u001b[38;5;241m=\u001b[39merrors,\n\u001b[0;32m    864\u001b[0m             newline\u001b[38;5;241m=\u001b[39m\u001b[38;5;124m\"\u001b[39m\u001b[38;5;124m\"\u001b[39m,\n\u001b[0;32m    865\u001b[0m         )\n\u001b[0;32m    866\u001b[0m     \u001b[38;5;28;01melse\u001b[39;00m:\n\u001b[0;32m    867\u001b[0m         \u001b[38;5;66;03m# Binary mode\u001b[39;00m\n\u001b[0;32m    868\u001b[0m         handle \u001b[38;5;241m=\u001b[39m \u001b[38;5;28mopen\u001b[39m(handle, ioargs\u001b[38;5;241m.\u001b[39mmode)\n",
      "\u001b[1;31mFileNotFoundError\u001b[0m: [Errno 2] No such file or directory: 'training_set.csv'"
     ]
    }
   ],
   "source": [
    "train_data = pd.read_csv('training_set.csv')\n",
    "test_data = pd.read_csv('testing_set.csv')"
   ]
  },
  {
   "cell_type": "code",
   "execution_count": null,
   "id": "1a911203",
   "metadata": {},
   "outputs": [],
   "source": [
    " data = train_data.copy()"
   ]
  },
  {
   "cell_type": "code",
   "execution_count": null,
   "id": "819ad647",
   "metadata": {},
   "outputs": [],
   "source": [
    "data.head()"
   ]
  },
  {
   "cell_type": "code",
   "execution_count": null,
   "id": "29e9035a",
   "metadata": {},
   "outputs": [],
   "source": [
    "data.info()"
   ]
  },
  {
   "cell_type": "code",
   "execution_count": null,
   "id": "57e47c33",
   "metadata": {},
   "outputs": [],
   "source": [
    "cat = [i for i in data.columns if data[i].dtypes == 'O']\n",
    "num = [i for i in data.columns if data[i].dtypes != 'O']"
   ]
  },
  {
   "cell_type": "code",
   "execution_count": null,
   "id": "09f8b14e",
   "metadata": {},
   "outputs": [],
   "source": [
    "d_feat = [i for i in data[num].columns if data[i].nunique() <= 15]"
   ]
  },
  {
   "cell_type": "code",
   "execution_count": null,
   "id": "7fa9436a",
   "metadata": {},
   "outputs": [],
   "source": [
    "cat.extend(d_feat)\n",
    "len(cat)"
   ]
  },
  {
   "cell_type": "code",
   "execution_count": null,
   "id": "5d2d4409",
   "metadata": {},
   "outputs": [],
   "source": [
    "for i in data.columns:\n",
    "    if i in cat:\n",
    "        data[i] = data[i].fillna('NA')\n",
    "    else:\n",
    "        data[i] = data[i].fillna(data[i].median())"
   ]
  },
  {
   "cell_type": "code",
   "execution_count": null,
   "id": "6fb1a94f",
   "metadata": {},
   "outputs": [],
   "source": [
    "data.describe()"
   ]
  },
  {
   "cell_type": "markdown",
   "id": "6419d12e",
   "metadata": {},
   "source": [
    "----"
   ]
  },
  {
   "cell_type": "markdown",
   "id": "9786e302",
   "metadata": {},
   "source": [
    "## Categorical Features"
   ]
  },
  {
   "cell_type": "code",
   "execution_count": null,
   "id": "47864f11",
   "metadata": {},
   "outputs": [],
   "source": [
    "len(cat)"
   ]
  },
  {
   "cell_type": "code",
   "execution_count": null,
   "id": "3f2bb452",
   "metadata": {
    "scrolled": true
   },
   "outputs": [],
   "source": [
    "figure = plt.figure(figsize = (15,420))\n",
    "import itertools\n",
    "\n",
    "for i,j in itertools.zip_longest(cat, range(1,116,2)):\n",
    "\n",
    "    plt.subplots_adjust(wspace = 0.2, hspace = 0.2)\n",
    "    plt.subplot(58,2,j)\n",
    "    plt.xticks(rotation =90)\n",
    "    ax = sns.countplot(data = data, x = i, color = 'purple')\n",
    "    ax.bar_label(ax.containers[0])\n",
    "    \n",
    "    plt.subplot(58,2,j+1)\n",
    "    plt.xticks(rotation =90)\n",
    "    ax = sns.boxplot(data = data, x = i, y = 'SalePrice', color = 'purple')"
   ]
  },
  {
   "cell_type": "markdown",
   "id": "4d8eda9a",
   "metadata": {},
   "source": [
    "# Discrete Numerical Features"
   ]
  },
  {
   "cell_type": "code",
   "execution_count": null,
   "id": "04c0b12d",
   "metadata": {},
   "outputs": [],
   "source": [
    "d_feat = [i for i in data[num].columns if data[i].nunique() <= 15]"
   ]
  },
  {
   "cell_type": "code",
   "execution_count": null,
   "id": "4162b3b7",
   "metadata": {},
   "outputs": [],
   "source": [
    "d_feat"
   ]
  },
  {
   "cell_type": "code",
   "execution_count": null,
   "id": "f612cadd",
   "metadata": {},
   "outputs": [],
   "source": [
    "figure = plt.figure(figsize = (20,90))\n",
    "import itertools\n",
    "\n",
    "for i,j in itertools.zip_longest(d_feat, range(1,30,2)):\n",
    "\n",
    "    plt.subplots_adjust(wspace = 0.2, hspace = 0.2)\n",
    "    plt.subplot(15,2,j)\n",
    "    plt.xticks(rotation = 90)\n",
    "    ax = sns.countplot(data = data, x = i, color = 'purple')\n",
    "    ax.bar_label(ax.containers[0])\n",
    "    \n",
    "    plt.subplot(15,2,j+1)\n",
    "    plt.xticks(rotation = 90)\n",
    "    ax = sns.boxplot(data = data, x = i, y = 'SalePrice', color = 'purple')"
   ]
  },
  {
   "cell_type": "markdown",
   "id": "f7c71659",
   "metadata": {},
   "source": [
    "# Continuous Numerical Features"
   ]
  },
  {
   "cell_type": "code",
   "execution_count": null,
   "id": "c8ba9490",
   "metadata": {},
   "outputs": [],
   "source": [
    "c_feat = [i for i in data[num].columns if data[i].nunique() > 15]"
   ]
  },
  {
   "cell_type": "code",
   "execution_count": null,
   "id": "afd98812",
   "metadata": {},
   "outputs": [],
   "source": [
    "len(c_feat)"
   ]
  },
  {
   "cell_type": "code",
   "execution_count": null,
   "id": "c4f1aeac",
   "metadata": {},
   "outputs": [],
   "source": [
    "def pp(a,b,c):\n",
    "    sns.pairplot(data = data, x_vars = [a,b,c], y_vars = 'SalePrice',size=4, aspect=1, kind='scatter')\n",
    "    plt.show()"
   ]
  },
  {
   "cell_type": "code",
   "execution_count": null,
   "id": "b90c9163",
   "metadata": {
    "scrolled": false
   },
   "outputs": [],
   "source": [
    "for i,j in itertools.zip_longest(range(1,21,3), range(4,23,3)):\n",
    "    lst = c_feat[i:j]\n",
    "    pp(lst[0],lst[1],lst[2])\n",
    "    \n",
    "    "
   ]
  },
  {
   "cell_type": "code",
   "execution_count": null,
   "id": "1198898f",
   "metadata": {
    "scrolled": false
   },
   "outputs": [],
   "source": [
    "figure = plt.figure(figsize = (15,30))\n",
    "for i,j in itertools.zip_longest(c_feat, range(1,24)):\n",
    "    plt.subplot(8,3,j)\n",
    "    plt.subplots_adjust(wspace =0.2, hspace =0.4)\n",
    "    data[i].hist()\n",
    "    plt.title(i)\n",
    "    plt.xticks(rotation = 90)"
   ]
  },
  {
   "cell_type": "markdown",
   "id": "5c0f2f0c",
   "metadata": {},
   "source": [
    "# Time line data"
   ]
  },
  {
   "cell_type": "code",
   "execution_count": null,
   "id": "79b2e3c2",
   "metadata": {},
   "outputs": [],
   "source": [
    "yr_feat = [i for i in data.columns if 'Yr' in i or 'Year' in i]\n",
    "yr_feat"
   ]
  },
  {
   "cell_type": "code",
   "execution_count": null,
   "id": "a1c0c365",
   "metadata": {},
   "outputs": [],
   "source": [
    "dum = data[['YearBuilt', 'YearRemodAdd', 'GarageYrBlt', 'YrSold', 'SalePrice']]\n",
    "dum['YearBuilt'] = dum['YrSold'] - dum['YearBuilt'] \n",
    "dum['YearRemodAdd'] = dum['YrSold'] - dum['YearRemodAdd']\n",
    "dum['GarageYrBlt'] = dum['YrSold'] - dum['GarageYrBlt']"
   ]
  },
  {
   "cell_type": "code",
   "execution_count": null,
   "id": "5ba686b7",
   "metadata": {},
   "outputs": [],
   "source": [
    "dum"
   ]
  },
  {
   "cell_type": "code",
   "execution_count": null,
   "id": "145c400d",
   "metadata": {},
   "outputs": [],
   "source": [
    "for i in yr_feat[0:3]:\n",
    "    sns.scatterplot(data = dum, x = i, y = 'SalePrice', color = 'purple')\n",
    "    plt.show()\n",
    "    "
   ]
  },
  {
   "cell_type": "markdown",
   "id": "bcfb2b40",
   "metadata": {},
   "source": [
    "----"
   ]
  },
  {
   "cell_type": "markdown",
   "id": "d7c5ec73",
   "metadata": {},
   "source": [
    "## Categorical Feature Scaling"
   ]
  },
  {
   "cell_type": "markdown",
   "id": "a5fd755b",
   "metadata": {},
   "source": [
    "### Defining rare category"
   ]
  },
  {
   "cell_type": "code",
   "execution_count": null,
   "id": "a970ba2a",
   "metadata": {},
   "outputs": [],
   "source": [
    "n_rare = []\n",
    "\n",
    "for i in cat:\n",
    "    temp = data.groupby(by = i)['SalePrice'].count() / len(data)\n",
    "    temp_df = temp[temp>0.01].index\n",
    "    n_rare.extend(temp_df)\n",
    "    data[i] = np.where(data[i].isin(n_rare),data[i], 'rare_var')"
   ]
  },
  {
   "cell_type": "code",
   "execution_count": null,
   "id": "4d0d1560",
   "metadata": {},
   "outputs": [],
   "source": [
    "data[cat]"
   ]
  },
  {
   "cell_type": "markdown",
   "id": "0147c582",
   "metadata": {},
   "source": [
    "### Labeling Categorical data"
   ]
  },
  {
   "cell_type": "code",
   "execution_count": null,
   "id": "25596bb6",
   "metadata": {},
   "outputs": [],
   "source": [
    "data.columns"
   ]
  },
  {
   "cell_type": "code",
   "execution_count": null,
   "id": "698ede1e",
   "metadata": {},
   "outputs": [],
   "source": [
    "dic_labels = {}\n",
    "for i in cat:\n",
    "    labels = data.groupby(by = i)['SalePrice'].mean().sort_values().index\n",
    "    label_ordered = {k:j for j,k in enumerate(labels, 0)}\n",
    "    dic_labels[i] = label_ordered\n",
    "    data[i] = data[i].map(label_ordered)"
   ]
  },
  {
   "cell_type": "code",
   "execution_count": null,
   "id": "93a870f3",
   "metadata": {},
   "outputs": [],
   "source": [
    "train_unique = []\n",
    "for i in data[cat].columns:\n",
    "    a = data[i].unique()\n",
    "    train_unique.extend(a)\n",
    "    "
   ]
  },
  {
   "cell_type": "code",
   "execution_count": null,
   "id": "e4423459",
   "metadata": {},
   "outputs": [],
   "source": [
    "dic_labels"
   ]
  },
  {
   "cell_type": "code",
   "execution_count": null,
   "id": "ab30c950",
   "metadata": {},
   "outputs": [],
   "source": [
    "data"
   ]
  },
  {
   "cell_type": "markdown",
   "id": "2c3bcf90",
   "metadata": {},
   "source": [
    "## Normalizing Continuous Data"
   ]
  },
  {
   "cell_type": "code",
   "execution_count": null,
   "id": "5a2272ae",
   "metadata": {},
   "outputs": [],
   "source": [
    "norm_feat = [i for i in c_feat if 0 not in data[i].unique() and i not in ['Id']]\n",
    "norm_feat"
   ]
  },
  {
   "cell_type": "code",
   "execution_count": null,
   "id": "2bd62899",
   "metadata": {},
   "outputs": [],
   "source": [
    "for i in norm_feat:\n",
    "    data[i] = np.log(data[i])"
   ]
  },
  {
   "cell_type": "code",
   "execution_count": null,
   "id": "3d4e174d",
   "metadata": {
    "scrolled": true
   },
   "outputs": [],
   "source": [
    "data"
   ]
  },
  {
   "cell_type": "markdown",
   "id": "49d535eb",
   "metadata": {},
   "source": [
    "----"
   ]
  },
  {
   "cell_type": "markdown",
   "id": "dffe243e",
   "metadata": {},
   "source": [
    "# Feature Scaling"
   ]
  },
  {
   "cell_type": "code",
   "execution_count": null,
   "id": "ab1a1f44",
   "metadata": {},
   "outputs": [],
   "source": [
    "scaler = MinMaxScaler()"
   ]
  },
  {
   "cell_type": "code",
   "execution_count": null,
   "id": "73b58608",
   "metadata": {},
   "outputs": [],
   "source": [
    "feature_scale = [i for i in data.columns if i not in ['Id', 'SalePrice']]\n",
    "len(feature_scale)"
   ]
  },
  {
   "cell_type": "code",
   "execution_count": null,
   "id": "137a3cb7",
   "metadata": {},
   "outputs": [],
   "source": [
    "scaler.fit(data[feature_scale])"
   ]
  },
  {
   "cell_type": "code",
   "execution_count": null,
   "id": "f3a30ed3",
   "metadata": {},
   "outputs": [],
   "source": [
    "tr_data = pd.concat([data[['Id', 'SalePrice']].reset_index(drop=True),\n",
    "                    pd.DataFrame(scaler.transform(data[feature_scale]), columns=feature_scale)],\n",
    "                    axis=1)"
   ]
  },
  {
   "cell_type": "code",
   "execution_count": null,
   "id": "a9fd90e8",
   "metadata": {},
   "outputs": [],
   "source": [
    "tr_data"
   ]
  },
  {
   "cell_type": "markdown",
   "id": "17f3ffa8",
   "metadata": {},
   "source": [
    "----"
   ]
  },
  {
   "cell_type": "markdown",
   "id": "cab71c16",
   "metadata": {},
   "source": [
    "# Feature Selection"
   ]
  },
  {
   "cell_type": "code",
   "execution_count": null,
   "id": "9e810bfc",
   "metadata": {},
   "outputs": [],
   "source": [
    "y_train = tr_data['SalePrice']\n",
    "x_train = tr_data.drop(['Id','SalePrice'], axis = 1)"
   ]
  },
  {
   "cell_type": "code",
   "execution_count": null,
   "id": "9668f714",
   "metadata": {},
   "outputs": [],
   "source": [
    "model = SelectFromModel(Lasso(alpha = 0.01))"
   ]
  },
  {
   "cell_type": "code",
   "execution_count": null,
   "id": "fae4023a",
   "metadata": {},
   "outputs": [],
   "source": [
    "model.fit(x_train,y_train)"
   ]
  },
  {
   "cell_type": "code",
   "execution_count": null,
   "id": "ecbafdb9",
   "metadata": {},
   "outputs": [],
   "source": [
    "model.get_support()"
   ]
  },
  {
   "cell_type": "code",
   "execution_count": null,
   "id": "cb478818",
   "metadata": {},
   "outputs": [],
   "source": [
    "selected_feat = x_train.columns[model.get_support()]\n",
    "selected_feat"
   ]
  },
  {
   "cell_type": "code",
   "execution_count": null,
   "id": "49126ed0",
   "metadata": {},
   "outputs": [],
   "source": [
    "len(selected_feat)"
   ]
  },
  {
   "cell_type": "code",
   "execution_count": null,
   "id": "c7b7fb0f",
   "metadata": {
    "scrolled": true
   },
   "outputs": [],
   "source": [
    "x_train = x_train[selected_feat]\n",
    "x_train.shape"
   ]
  },
  {
   "cell_type": "code",
   "execution_count": null,
   "id": "dba0cd4a",
   "metadata": {},
   "outputs": [],
   "source": [
    "x_train.info()"
   ]
  },
  {
   "cell_type": "markdown",
   "id": "2990aed9",
   "metadata": {},
   "source": [
    "# Model Training and Evaluation"
   ]
  },
  {
   "cell_type": "code",
   "execution_count": null,
   "id": "9338eaef",
   "metadata": {},
   "outputs": [],
   "source": [
    "ridge = Ridge()"
   ]
  },
  {
   "cell_type": "code",
   "execution_count": null,
   "id": "0bca63ee",
   "metadata": {},
   "outputs": [],
   "source": [
    "hyperparameters ={'alpha' : [1e-5,1e-4,1e-3,1,0.01, 0.1, 0.5, 1, 2, 3, 5, 7, 10 ]}"
   ]
  },
  {
   "cell_type": "code",
   "execution_count": null,
   "id": "d63abb97",
   "metadata": {},
   "outputs": [],
   "source": [
    "RR = GridSearchCV(ridge, hyperparameters, scoring = 'neg_mean_squared_error', cv = 5) "
   ]
  },
  {
   "cell_type": "code",
   "execution_count": null,
   "id": "b3a4d939",
   "metadata": {},
   "outputs": [],
   "source": [
    "RR.fit(x_train,y_train)"
   ]
  },
  {
   "cell_type": "code",
   "execution_count": null,
   "id": "f61cb537",
   "metadata": {},
   "outputs": [],
   "source": [
    "print(\"Best value for lambda : \",RR.best_params_)\n",
    "print(\"Best score for cost function: \", RR.best_score_)"
   ]
  },
  {
   "cell_type": "code",
   "execution_count": null,
   "id": "b90453d8",
   "metadata": {},
   "outputs": [],
   "source": []
  },
  {
   "cell_type": "code",
   "execution_count": null,
   "id": "66267f02",
   "metadata": {},
   "outputs": [],
   "source": [
    "lasso = Lasso()"
   ]
  },
  {
   "cell_type": "code",
   "execution_count": null,
   "id": "af87dc6e",
   "metadata": {},
   "outputs": [],
   "source": [
    "ls = GridSearchCV(lasso, hyperparameters, scoring = 'neg_mean_squared_error', cv = 5 )"
   ]
  },
  {
   "cell_type": "code",
   "execution_count": null,
   "id": "0246d9c4",
   "metadata": {},
   "outputs": [],
   "source": [
    "ls.fit(x_train,y_train)"
   ]
  },
  {
   "cell_type": "code",
   "execution_count": null,
   "id": "0c8c48aa",
   "metadata": {},
   "outputs": [],
   "source": [
    "print(\"Best value for lambda : \",ls.best_params_)\n",
    "print(\"Best score for cost function: \", ls.best_score_)"
   ]
  },
  {
   "cell_type": "code",
   "execution_count": null,
   "id": "75c5e171",
   "metadata": {},
   "outputs": [],
   "source": [
    "predict_ridge = RR.predict(x_train)\n",
    "predict_lasso = ls.predict(x_train)"
   ]
  },
  {
   "cell_type": "code",
   "execution_count": null,
   "id": "d84369a5",
   "metadata": {},
   "outputs": [],
   "source": [
    "figure = plt.figure(figsize = (15,5))\n",
    "plt.subplot(1,2,1)\n",
    "sns.distplot(y_train-predict_ridge)\n",
    "plt.subplot(1,2,2)\n",
    "sns.distplot(y_train-predict_lasso)"
   ]
  },
  {
   "cell_type": "markdown",
   "id": "320e2f8b",
   "metadata": {},
   "source": [
    " ----"
   ]
  },
  {
   "cell_type": "markdown",
   "id": "9863dbed",
   "metadata": {},
   "source": [
    "# Test Data"
   ]
  },
  {
   "cell_type": "code",
   "execution_count": null,
   "id": "269c3f9c",
   "metadata": {},
   "outputs": [],
   "source": [
    "df = test_data.copy()"
   ]
  },
  {
   "cell_type": "code",
   "execution_count": null,
   "id": "e49bf749",
   "metadata": {},
   "outputs": [],
   "source": [
    "df.head()"
   ]
  },
  {
   "cell_type": "code",
   "execution_count": null,
   "id": "5f4a6903",
   "metadata": {},
   "outputs": [],
   "source": [
    "df.info()"
   ]
  },
  {
   "cell_type": "code",
   "execution_count": null,
   "id": "d1ae2e92",
   "metadata": {},
   "outputs": [],
   "source": [
    "df.isnull().sum()"
   ]
  },
  {
   "cell_type": "code",
   "execution_count": null,
   "id": "4a2b81ae",
   "metadata": {},
   "outputs": [],
   "source": [
    "df"
   ]
  },
  {
   "cell_type": "code",
   "execution_count": null,
   "id": "62a5fa78",
   "metadata": {},
   "outputs": [],
   "source": [
    "for i in df.columns:\n",
    "    if i in cat:\n",
    "        df[i] = df[i].fillna('NA')\n",
    "    else:\n",
    "        df[i] = df[i].fillna(df[i].median())"
   ]
  },
  {
   "cell_type": "code",
   "execution_count": null,
   "id": "59b6945d",
   "metadata": {},
   "outputs": [],
   "source": [
    "for i in cat:\n",
    "    df[i] = np.where(df[i].isin(n_rare), df[i],'rare_var')"
   ]
  },
  {
   "cell_type": "code",
   "execution_count": null,
   "id": "675a241e",
   "metadata": {
    "scrolled": true
   },
   "outputs": [],
   "source": [
    "df.head()"
   ]
  },
  {
   "cell_type": "code",
   "execution_count": null,
   "id": "8e60641a",
   "metadata": {},
   "outputs": [],
   "source": [
    "for i in dic_labels:\n",
    "    if 'NA' not in dic_labels[i]:\n",
    "        dar = dic_labels[i][list(dic_labels[i])[-1]] + 1\n",
    "        dic_labels[i]['NA'] = dar"
   ]
  },
  {
   "cell_type": "code",
   "execution_count": null,
   "id": "2932453b",
   "metadata": {},
   "outputs": [],
   "source": [
    "dic_labels['ExterQual']['Fa'] = 5\n",
    "dic_labels['Street']['Grvl'] = 3\n",
    "dic_labels['TotRmsAbvGrd']['12'] = 12\n",
    "dic_labels['FullBath']['4'] = 4\n",
    "dic_labels['Exterior2nd']['CBlock'] = 12\n",
    "dic_labels['Exterior2nd']['Stone'] = 13\n",
    "dic_labels['RoofStyle']['Shed'] = 1\n",
    "dic_labels['ExterCond']['Po'] = 6\n",
    "dic_labels['HeatingQC']['Po'] = 6\n",
    "dic_labels['Exterior1st']['CBlock'] = 12\n",
    "dic_labels['Fireplaces']['4'] = 5\n",
    "dic_labels['BsmtCond']['Po'] = 5\n",
    "dic_labels['OverallQual']['2'] = 10\n",
    "dic_labels['OverallQual']['1'] = 11\n",
    "dic_labels['OverallCond']['2'] = 10\n",
    "dic_labels['OverallCond']['1'] = 9\n",
    "dic_labels['GarageCars']['5'] = 6"
   ]
  },
  {
   "cell_type": "code",
   "execution_count": null,
   "id": "4613737e",
   "metadata": {},
   "outputs": [],
   "source": [
    "dic_labels"
   ]
  },
  {
   "cell_type": "code",
   "execution_count": null,
   "id": "a9813cf5",
   "metadata": {},
   "outputs": [],
   "source": [
    "df['BsmtFullBath'] = df['BsmtFullBath'].astype(str).apply(lambda x: x.replace('.0',''))\n",
    "df['BsmtHalfBath'] = df['BsmtHalfBath'].astype(str).apply(lambda x: x.replace('.0',''))\n",
    "df['GarageCars'] = df['GarageCars'].astype(str).apply(lambda x: x.replace('.0',''))"
   ]
  },
  {
   "cell_type": "code",
   "execution_count": null,
   "id": "413fa19c",
   "metadata": {},
   "outputs": [],
   "source": [
    "for i in cat:\n",
    "    df[i] = df[i].map(dic_labels[i])"
   ]
  },
  {
   "cell_type": "code",
   "execution_count": null,
   "id": "39249b2f",
   "metadata": {
    "scrolled": true
   },
   "outputs": [],
   "source": [
    "df['BsmtFullBath'] = df['BsmtFullBath'].astype(int)\n",
    "df['BsmtHalfBath'] = df['BsmtHalfBath'].astype(str)\n",
    "df['GarageCars'] = df['GarageCars'].astype(str)"
   ]
  },
  {
   "cell_type": "code",
   "execution_count": null,
   "id": "8dec8811",
   "metadata": {},
   "outputs": [],
   "source": [
    "df"
   ]
  },
  {
   "cell_type": "code",
   "execution_count": null,
   "id": "73d24a5b",
   "metadata": {},
   "outputs": [],
   "source": [
    "for i in norm_feat[0:7]:\n",
    "    df[i] = np.log(df[i])"
   ]
  },
  {
   "cell_type": "code",
   "execution_count": null,
   "id": "f88d209a",
   "metadata": {},
   "outputs": [],
   "source": [
    "df"
   ]
  },
  {
   "cell_type": "markdown",
   "id": "80977458",
   "metadata": {},
   "source": [
    "# Feature Selection for Testing Data"
   ]
  },
  {
   "cell_type": "code",
   "execution_count": null,
   "id": "a479ebb7",
   "metadata": {},
   "outputs": [],
   "source": [
    "x_test = df[selected_feat]\n",
    "x_test"
   ]
  },
  {
   "cell_type": "code",
   "execution_count": null,
   "id": "7b73793f",
   "metadata": {},
   "outputs": [],
   "source": [
    "for i in x_test.columns:\n",
    "    x_test[i] = x_test[i].astype(float)"
   ]
  },
  {
   "cell_type": "code",
   "execution_count": null,
   "id": "54873649",
   "metadata": {},
   "outputs": [],
   "source": [
    "x_test.isnull().sum()"
   ]
  },
  {
   "cell_type": "code",
   "execution_count": null,
   "id": "c39f4d29",
   "metadata": {},
   "outputs": [],
   "source": [
    "ridgeregressor = RR.predict(x_test)\n",
    "lassoregressor = ls.predict(x_test)"
   ]
  },
  {
   "cell_type": "code",
   "execution_count": null,
   "id": "4caeda93",
   "metadata": {},
   "outputs": [],
   "source": [
    "figure = plt.figure(figsize = (15,5))\n",
    "plt.subplot(1,2,1)\n",
    "sns.histplot(ridgeregressor,kde = True)\n",
    "plt.subplot(1,2,2)\n",
    "sns.histplot(lassoregressor,kde = True)"
   ]
  },
  {
   "cell_type": "code",
   "execution_count": null,
   "id": "9d6d2497",
   "metadata": {},
   "outputs": [],
   "source": [
    "result = pd.DataFrame(df['Id'])"
   ]
  },
  {
   "cell_type": "code",
   "execution_count": null,
   "id": "16d077c1",
   "metadata": {},
   "outputs": [],
   "source": [
    "result['Prediction'] = lassoregressor"
   ]
  },
  {
   "cell_type": "code",
   "execution_count": null,
   "id": "adaf6dd4",
   "metadata": {},
   "outputs": [],
   "source": [
    "result"
   ]
  },
  {
   "cell_type": "code",
   "execution_count": null,
   "id": "d3557216",
   "metadata": {},
   "outputs": [],
   "source": [
    "result.to_csv('Result', index = False)"
   ]
  },
  {
   "cell_type": "code",
   "execution_count": null,
   "id": "59c53fc3",
   "metadata": {},
   "outputs": [],
   "source": []
  }
 ],
 "metadata": {
  "kernelspec": {
   "display_name": "Python 3 (ipykernel)",
   "language": "python",
   "name": "python3"
  },
  "language_info": {
   "codemirror_mode": {
    "name": "ipython",
    "version": 3
   },
   "file_extension": ".py",
   "mimetype": "text/x-python",
   "name": "python",
   "nbconvert_exporter": "python",
   "pygments_lexer": "ipython3",
   "version": "3.11.5"
  }
 },
 "nbformat": 4,
 "nbformat_minor": 5
}
